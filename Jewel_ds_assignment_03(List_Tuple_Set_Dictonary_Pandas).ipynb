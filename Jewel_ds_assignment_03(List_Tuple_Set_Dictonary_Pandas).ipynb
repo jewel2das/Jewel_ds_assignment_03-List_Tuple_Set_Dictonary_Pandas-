{
 "cells": [
  {
   "cell_type": "markdown",
   "id": "836a5f47",
   "metadata": {},
   "source": [
    "# Python - <u>List</u>"
   ]
  },
  {
   "cell_type": "code",
   "execution_count": 115,
   "id": "7b4a7378",
   "metadata": {},
   "outputs": [
    {
     "data": {
      "text/plain": [
       "[1, 2, 3, 4, 5, 5]"
      ]
     },
     "execution_count": 115,
     "metadata": {},
     "output_type": "execute_result"
    }
   ],
   "source": [
    "li=[1,2,3,4,5,5]\n",
    "li"
   ]
  },
  {
   "cell_type": "code",
   "execution_count": 120,
   "id": "2223794a",
   "metadata": {},
   "outputs": [
    {
     "data": {
      "text/plain": [
       "[10, 2, 3, 4, 5, 5]"
      ]
     },
     "execution_count": 120,
     "metadata": {},
     "output_type": "execute_result"
    }
   ],
   "source": [
    "li[0]=10\n",
    "li"
   ]
  },
  {
   "cell_type": "code",
   "execution_count": 26,
   "id": "fd0c0644",
   "metadata": {},
   "outputs": [
    {
     "data": {
      "text/plain": [
       "list"
      ]
     },
     "execution_count": 26,
     "metadata": {},
     "output_type": "execute_result"
    }
   ],
   "source": [
    "type(li)"
   ]
  },
  {
   "cell_type": "code",
   "execution_count": 28,
   "id": "0a81f113",
   "metadata": {},
   "outputs": [
    {
     "data": {
      "text/plain": [
       "[1, 2, 3, 4, 5, 6, 6]"
      ]
     },
     "execution_count": 28,
     "metadata": {},
     "output_type": "execute_result"
    }
   ],
   "source": [
    "li.append(6)\n",
    "li"
   ]
  },
  {
   "cell_type": "code",
   "execution_count": 29,
   "id": "4c081c97",
   "metadata": {},
   "outputs": [],
   "source": [
    "li.remove(6)"
   ]
  },
  {
   "cell_type": "code",
   "execution_count": 30,
   "id": "67457e3b",
   "metadata": {},
   "outputs": [
    {
     "data": {
      "text/plain": [
       "[1, 2, 3, 4, 5, 6]"
      ]
     },
     "execution_count": 30,
     "metadata": {},
     "output_type": "execute_result"
    }
   ],
   "source": [
    "li"
   ]
  },
  {
   "cell_type": "code",
   "execution_count": 31,
   "id": "4eb92f47",
   "metadata": {},
   "outputs": [],
   "source": [
    "li.remove(6)"
   ]
  },
  {
   "cell_type": "code",
   "execution_count": 32,
   "id": "33c892fd",
   "metadata": {},
   "outputs": [
    {
     "data": {
      "text/plain": [
       "[1, 2, 3, 4, 5]"
      ]
     },
     "execution_count": 32,
     "metadata": {},
     "output_type": "execute_result"
    }
   ],
   "source": [
    "li"
   ]
  },
  {
   "cell_type": "code",
   "execution_count": 33,
   "id": "920aabdb",
   "metadata": {},
   "outputs": [],
   "source": [
    "li.reverse()"
   ]
  },
  {
   "cell_type": "code",
   "execution_count": 34,
   "id": "7b0ceed4",
   "metadata": {},
   "outputs": [
    {
     "data": {
      "text/plain": [
       "[5, 4, 3, 2, 1]"
      ]
     },
     "execution_count": 34,
     "metadata": {},
     "output_type": "execute_result"
    }
   ],
   "source": [
    "li"
   ]
  },
  {
   "cell_type": "code",
   "execution_count": 35,
   "id": "4119a1bc",
   "metadata": {},
   "outputs": [],
   "source": [
    "li.sort()"
   ]
  },
  {
   "cell_type": "code",
   "execution_count": 36,
   "id": "6ad5dd33",
   "metadata": {},
   "outputs": [
    {
     "data": {
      "text/plain": [
       "[1, 2, 3, 4, 5]"
      ]
     },
     "execution_count": 36,
     "metadata": {},
     "output_type": "execute_result"
    }
   ],
   "source": [
    "li"
   ]
  },
  {
   "cell_type": "code",
   "execution_count": 38,
   "id": "7173615d",
   "metadata": {},
   "outputs": [],
   "source": [
    "li.append(6)"
   ]
  },
  {
   "cell_type": "code",
   "execution_count": 39,
   "id": "80d3b648",
   "metadata": {},
   "outputs": [
    {
     "data": {
      "text/plain": [
       "[1, 2, 3, 4, 5, 6]"
      ]
     },
     "execution_count": 39,
     "metadata": {},
     "output_type": "execute_result"
    }
   ],
   "source": [
    "li"
   ]
  },
  {
   "cell_type": "code",
   "execution_count": 42,
   "id": "fb0e2fc9",
   "metadata": {},
   "outputs": [],
   "source": [
    "li.extend([7,8,9])"
   ]
  },
  {
   "cell_type": "code",
   "execution_count": 43,
   "id": "ed3f8cde",
   "metadata": {},
   "outputs": [
    {
     "data": {
      "text/plain": [
       "[1, 2, 3, 4, 5, 6, 7, 8, 9]"
      ]
     },
     "execution_count": 43,
     "metadata": {},
     "output_type": "execute_result"
    }
   ],
   "source": [
    "li"
   ]
  },
  {
   "cell_type": "code",
   "execution_count": null,
   "id": "6be35007",
   "metadata": {},
   "outputs": [],
   "source": []
  },
  {
   "cell_type": "code",
   "execution_count": 44,
   "id": "a00a0d38",
   "metadata": {
    "scrolled": true
   },
   "outputs": [
    {
     "data": {
      "text/plain": [
       "8"
      ]
     },
     "execution_count": 44,
     "metadata": {},
     "output_type": "execute_result"
    }
   ],
   "source": [
    "li.pop(7)"
   ]
  },
  {
   "cell_type": "code",
   "execution_count": null,
   "id": "8191ddb4",
   "metadata": {},
   "outputs": [],
   "source": []
  },
  {
   "cell_type": "code",
   "execution_count": 45,
   "id": "d19f14b4",
   "metadata": {},
   "outputs": [
    {
     "data": {
      "text/plain": [
       "[1, 2, 3, 4, 5, 6, 7, 9]"
      ]
     },
     "execution_count": 45,
     "metadata": {},
     "output_type": "execute_result"
    }
   ],
   "source": [
    "li"
   ]
  },
  {
   "cell_type": "code",
   "execution_count": 46,
   "id": "dd52510a",
   "metadata": {},
   "outputs": [
    {
     "data": {
      "text/plain": [
       "[3, 4]"
      ]
     },
     "execution_count": 46,
     "metadata": {},
     "output_type": "execute_result"
    }
   ],
   "source": [
    "li[2:4]"
   ]
  },
  {
   "cell_type": "code",
   "execution_count": 47,
   "id": "5cb8bfc7",
   "metadata": {},
   "outputs": [],
   "source": [
    "li2=li[1:5]"
   ]
  },
  {
   "cell_type": "code",
   "execution_count": 48,
   "id": "88cd5e6a",
   "metadata": {},
   "outputs": [
    {
     "data": {
      "text/plain": [
       "[1, 2, 3, 4, 5, 6, 7, 9]"
      ]
     },
     "execution_count": 48,
     "metadata": {},
     "output_type": "execute_result"
    }
   ],
   "source": [
    "li"
   ]
  },
  {
   "cell_type": "code",
   "execution_count": 49,
   "id": "e685f46f",
   "metadata": {},
   "outputs": [
    {
     "data": {
      "text/plain": [
       "[2, 3, 4, 5]"
      ]
     },
     "execution_count": 49,
     "metadata": {},
     "output_type": "execute_result"
    }
   ],
   "source": [
    "li2"
   ]
  },
  {
   "cell_type": "code",
   "execution_count": 54,
   "id": "588b7b72",
   "metadata": {},
   "outputs": [
    {
     "data": {
      "text/plain": [
       "[3, 4, 5, 6]"
      ]
     },
     "execution_count": 54,
     "metadata": {},
     "output_type": "execute_result"
    }
   ],
   "source": [
    "li[2:6]"
   ]
  },
  {
   "cell_type": "code",
   "execution_count": 55,
   "id": "4e5dd73b",
   "metadata": {},
   "outputs": [
    {
     "data": {
      "text/plain": [
       "4"
      ]
     },
     "execution_count": 55,
     "metadata": {},
     "output_type": "execute_result"
    }
   ],
   "source": [
    "li.index(5)"
   ]
  },
  {
   "cell_type": "code",
   "execution_count": 56,
   "id": "41278756",
   "metadata": {},
   "outputs": [
    {
     "data": {
      "text/plain": [
       "[2, 3, 4, 5]"
      ]
     },
     "execution_count": 56,
     "metadata": {},
     "output_type": "execute_result"
    }
   ],
   "source": [
    "li2"
   ]
  },
  {
   "cell_type": "code",
   "execution_count": 57,
   "id": "bafc2f04",
   "metadata": {},
   "outputs": [],
   "source": [
    "li2.clear()"
   ]
  },
  {
   "cell_type": "code",
   "execution_count": 58,
   "id": "8ea1ed35",
   "metadata": {},
   "outputs": [
    {
     "data": {
      "text/plain": [
       "[]"
      ]
     },
     "execution_count": 58,
     "metadata": {},
     "output_type": "execute_result"
    }
   ],
   "source": [
    "li2"
   ]
  },
  {
   "cell_type": "code",
   "execution_count": 60,
   "id": "0d61e244",
   "metadata": {},
   "outputs": [],
   "source": [
    "c_li=li"
   ]
  },
  {
   "cell_type": "code",
   "execution_count": 61,
   "id": "ecfc7c83",
   "metadata": {},
   "outputs": [
    {
     "data": {
      "text/plain": [
       "[1, 2, 3, 4, 5, 6, 7, 9]"
      ]
     },
     "execution_count": 61,
     "metadata": {},
     "output_type": "execute_result"
    }
   ],
   "source": [
    "c_li"
   ]
  },
  {
   "cell_type": "code",
   "execution_count": 62,
   "id": "789b93a8",
   "metadata": {},
   "outputs": [
    {
     "data": {
      "text/plain": [
       "2667180660352"
      ]
     },
     "execution_count": 62,
     "metadata": {},
     "output_type": "execute_result"
    }
   ],
   "source": [
    "id(li)"
   ]
  },
  {
   "cell_type": "code",
   "execution_count": 63,
   "id": "d67f5b8a",
   "metadata": {},
   "outputs": [
    {
     "data": {
      "text/plain": [
       "2667180660352"
      ]
     },
     "execution_count": 63,
     "metadata": {},
     "output_type": "execute_result"
    }
   ],
   "source": [
    "id(c_li)"
   ]
  },
  {
   "cell_type": "code",
   "execution_count": 67,
   "id": "046fc301",
   "metadata": {},
   "outputs": [],
   "source": [
    "c_li2=li.copy()"
   ]
  },
  {
   "cell_type": "code",
   "execution_count": 68,
   "id": "8c488fd9",
   "metadata": {},
   "outputs": [
    {
     "data": {
      "text/plain": [
       "[1, 2, 3, 4, 5, 6, 7, 9]"
      ]
     },
     "execution_count": 68,
     "metadata": {},
     "output_type": "execute_result"
    }
   ],
   "source": [
    "c_li2"
   ]
  },
  {
   "cell_type": "code",
   "execution_count": 69,
   "id": "6ce77219",
   "metadata": {},
   "outputs": [
    {
     "data": {
      "text/plain": [
       "[1, 2, 3, 4, 5, 6, 7, 9]"
      ]
     },
     "execution_count": 69,
     "metadata": {},
     "output_type": "execute_result"
    }
   ],
   "source": [
    "li"
   ]
  },
  {
   "cell_type": "code",
   "execution_count": 70,
   "id": "e2ef4eec",
   "metadata": {},
   "outputs": [
    {
     "data": {
      "text/plain": [
       "[1, 2, 3, 4, 5, 6, 7, 9]"
      ]
     },
     "execution_count": 70,
     "metadata": {},
     "output_type": "execute_result"
    }
   ],
   "source": [
    "c_li"
   ]
  },
  {
   "cell_type": "code",
   "execution_count": 71,
   "id": "7782722a",
   "metadata": {},
   "outputs": [
    {
     "data": {
      "text/plain": [
       "[1, 2, 3, 4, 5, 6, 7, 9]"
      ]
     },
     "execution_count": 71,
     "metadata": {},
     "output_type": "execute_result"
    }
   ],
   "source": [
    "c_li2"
   ]
  },
  {
   "cell_type": "code",
   "execution_count": 72,
   "id": "656c2a11",
   "metadata": {},
   "outputs": [
    {
     "data": {
      "text/plain": [
       "2667180660352"
      ]
     },
     "execution_count": 72,
     "metadata": {},
     "output_type": "execute_result"
    }
   ],
   "source": [
    "id(li)"
   ]
  },
  {
   "cell_type": "code",
   "execution_count": 73,
   "id": "1452762c",
   "metadata": {},
   "outputs": [
    {
     "data": {
      "text/plain": [
       "2667180660352"
      ]
     },
     "execution_count": 73,
     "metadata": {},
     "output_type": "execute_result"
    }
   ],
   "source": [
    "id(c_li)"
   ]
  },
  {
   "cell_type": "code",
   "execution_count": 74,
   "id": "5d32c401",
   "metadata": {},
   "outputs": [
    {
     "data": {
      "text/plain": [
       "2667235234624"
      ]
     },
     "execution_count": 74,
     "metadata": {},
     "output_type": "execute_result"
    }
   ],
   "source": [
    "id(c_li2)"
   ]
  },
  {
   "cell_type": "code",
   "execution_count": 75,
   "id": "027ccd40",
   "metadata": {},
   "outputs": [
    {
     "data": {
      "text/plain": [
       "[1, 2, 3, 4, 5, 6, 7, 9]"
      ]
     },
     "execution_count": 75,
     "metadata": {},
     "output_type": "execute_result"
    }
   ],
   "source": [
    "li"
   ]
  },
  {
   "cell_type": "code",
   "execution_count": 76,
   "id": "d4a49530",
   "metadata": {},
   "outputs": [],
   "source": [
    "for i in range(10,15):\n",
    "    li.append(i)"
   ]
  },
  {
   "cell_type": "code",
   "execution_count": 77,
   "id": "4a7cf8b6",
   "metadata": {},
   "outputs": [
    {
     "data": {
      "text/plain": [
       "[1, 2, 3, 4, 5, 6, 7, 9, 10, 11, 12, 13, 14]"
      ]
     },
     "execution_count": 77,
     "metadata": {},
     "output_type": "execute_result"
    }
   ],
   "source": [
    "li"
   ]
  },
  {
   "cell_type": "code",
   "execution_count": 78,
   "id": "58cf5014",
   "metadata": {},
   "outputs": [],
   "source": [
    "for j in ['Data','Science','AI']:\n",
    "    li.append(j)"
   ]
  },
  {
   "cell_type": "code",
   "execution_count": 79,
   "id": "eec5bd55",
   "metadata": {},
   "outputs": [
    {
     "data": {
      "text/plain": [
       "[1, 2, 3, 4, 5, 6, 7, 9, 10, 11, 12, 13, 14, 'Data', 'Science', 'AI']"
      ]
     },
     "execution_count": 79,
     "metadata": {},
     "output_type": "execute_result"
    }
   ],
   "source": [
    "li"
   ]
  },
  {
   "cell_type": "code",
   "execution_count": 80,
   "id": "862cd6f0",
   "metadata": {},
   "outputs": [
    {
     "data": {
      "text/plain": [
       "list"
      ]
     },
     "execution_count": 80,
     "metadata": {},
     "output_type": "execute_result"
    }
   ],
   "source": [
    "type(li)"
   ]
  },
  {
   "cell_type": "code",
   "execution_count": 103,
   "id": "22befeaa",
   "metadata": {},
   "outputs": [
    {
     "name": "stdout",
     "output_type": "stream",
     "text": [
      "Please enter the no to add in List:12\n",
      "Please enter the no to add in List:rabi\n",
      "Please enter the no to add in List:md\n",
      "Please enter the no to add in List:data\n",
      "Please enter the no to add in List:1\n",
      "Please enter the no to add in List:44\n",
      "Please enter the no to add in List:67\n",
      "Please enter the no to add in List:77\n",
      "Please enter the no to add in List:88\n"
     ]
    }
   ],
   "source": [
    "list_n=[]\n",
    "for k in range(1,10):\n",
    "    list_n.append(input(\"Please enter the no to add in List:\"))"
   ]
  },
  {
   "cell_type": "code",
   "execution_count": 104,
   "id": "ea7c0b2d",
   "metadata": {},
   "outputs": [
    {
     "data": {
      "text/plain": [
       "['12', 'rabi', 'md', 'data', '1', '44', '67', '77', '88']"
      ]
     },
     "execution_count": 104,
     "metadata": {},
     "output_type": "execute_result"
    }
   ],
   "source": [
    "list_n"
   ]
  },
  {
   "cell_type": "code",
   "execution_count": 92,
   "id": "eeaf57e0",
   "metadata": {},
   "outputs": [
    {
     "data": {
      "text/plain": [
       "9"
      ]
     },
     "execution_count": 92,
     "metadata": {},
     "output_type": "execute_result"
    }
   ],
   "source": [
    "len(list_n)"
   ]
  },
  {
   "cell_type": "code",
   "execution_count": 95,
   "id": "b57fda5b",
   "metadata": {},
   "outputs": [],
   "source": [
    "list_f=list(('Data','base','system',2,3))"
   ]
  },
  {
   "cell_type": "code",
   "execution_count": 96,
   "id": "621ccfdf",
   "metadata": {},
   "outputs": [
    {
     "data": {
      "text/plain": [
       "['Data', 'base', 'system', 2, 3]"
      ]
     },
     "execution_count": 96,
     "metadata": {},
     "output_type": "execute_result"
    }
   ],
   "source": [
    "list_f"
   ]
  },
  {
   "cell_type": "code",
   "execution_count": 98,
   "id": "0a24cef7",
   "metadata": {},
   "outputs": [
    {
     "name": "stdout",
     "output_type": "stream",
     "text": [
      "Data Present in the list\n"
     ]
    }
   ],
   "source": [
    "if 'data' in list_n:\n",
    "    print(\"Data Present in the list\")"
   ]
  },
  {
   "cell_type": "code",
   "execution_count": 100,
   "id": "440c5376",
   "metadata": {},
   "outputs": [
    {
     "name": "stdout",
     "output_type": "stream",
     "text": [
      "12\n",
      "55\n",
      "66\n",
      "88\n",
      "ml\n",
      "learnong\n",
      "data\n",
      "algorithm\n",
      "excel\n"
     ]
    },
    {
     "data": {
      "text/plain": [
       "[None, None, None, None, None, None, None, None, None]"
      ]
     },
     "execution_count": 100,
     "metadata": {},
     "output_type": "execute_result"
    }
   ],
   "source": [
    "[print(x) for x in list_n]"
   ]
  },
  {
   "cell_type": "code",
   "execution_count": 101,
   "id": "0795bf47",
   "metadata": {},
   "outputs": [],
   "source": [
    "list_n.extend(list_f)"
   ]
  },
  {
   "cell_type": "code",
   "execution_count": 102,
   "id": "1218ff17",
   "metadata": {
    "scrolled": true
   },
   "outputs": [
    {
     "data": {
      "text/plain": [
       "['12',\n",
       " '55',\n",
       " '66',\n",
       " '88',\n",
       " 'ml',\n",
       " 'learnong',\n",
       " 'data',\n",
       " 'algorithm',\n",
       " 'excel',\n",
       " 'Data',\n",
       " 'base',\n",
       " 'system',\n",
       " 2,\n",
       " 3]"
      ]
     },
     "execution_count": 102,
     "metadata": {},
     "output_type": "execute_result"
    }
   ],
   "source": [
    "list_n"
   ]
  },
  {
   "cell_type": "markdown",
   "id": "ad8fed00",
   "metadata": {},
   "source": [
    "# Python - <u>Tuple</u>"
   ]
  },
  {
   "cell_type": "code",
   "execution_count": 113,
   "id": "0a095f1a",
   "metadata": {},
   "outputs": [],
   "source": [
    "tp=(1,2,3,4,5,6,6)"
   ]
  },
  {
   "cell_type": "code",
   "execution_count": 114,
   "id": "64a64958",
   "metadata": {},
   "outputs": [
    {
     "data": {
      "text/plain": [
       "(1, 2, 3, 4, 5, 6, 6)"
      ]
     },
     "execution_count": 114,
     "metadata": {},
     "output_type": "execute_result"
    }
   ],
   "source": [
    "tp"
   ]
  },
  {
   "cell_type": "code",
   "execution_count": 107,
   "id": "e3c93ac3",
   "metadata": {},
   "outputs": [
    {
     "data": {
      "text/plain": [
       "tuple"
      ]
     },
     "execution_count": 107,
     "metadata": {},
     "output_type": "execute_result"
    }
   ],
   "source": [
    "type(tp)"
   ]
  },
  {
   "cell_type": "code",
   "execution_count": 2,
   "id": "871287db",
   "metadata": {},
   "outputs": [],
   "source": [
    "tp_n=tuple((7,8,9,11,12))"
   ]
  },
  {
   "cell_type": "code",
   "execution_count": 3,
   "id": "f07f3c70",
   "metadata": {},
   "outputs": [
    {
     "data": {
      "text/plain": [
       "(7, 8, 9, 11, 12)"
      ]
     },
     "execution_count": 3,
     "metadata": {},
     "output_type": "execute_result"
    }
   ],
   "source": [
    "tp_n"
   ]
  },
  {
   "cell_type": "code",
   "execution_count": 127,
   "id": "28510501",
   "metadata": {
    "scrolled": true
   },
   "outputs": [
    {
     "name": "stdout",
     "output_type": "stream",
     "text": [
      "7\n",
      "8\n",
      "9\n",
      "11\n",
      "12\n"
     ]
    }
   ],
   "source": [
    "for i in tp_n:\n",
    "    print(i)"
   ]
  },
  {
   "cell_type": "code",
   "execution_count": 128,
   "id": "f6dcd692",
   "metadata": {},
   "outputs": [
    {
     "name": "stdout",
     "output_type": "stream",
     "text": [
      "Number present in the Tuple\n"
     ]
    }
   ],
   "source": [
    "if 7 in tp_n:\n",
    "    print('Number present in the Tuple')"
   ]
  },
  {
   "cell_type": "code",
   "execution_count": 4,
   "id": "b4dbe3bb",
   "metadata": {},
   "outputs": [
    {
     "data": {
      "text/plain": [
       "(7, 8, 9, 11, 12)"
      ]
     },
     "execution_count": 4,
     "metadata": {},
     "output_type": "execute_result"
    }
   ],
   "source": [
    "tp_n"
   ]
  },
  {
   "cell_type": "code",
   "execution_count": 21,
   "id": "a66e7435",
   "metadata": {},
   "outputs": [
    {
     "name": "stdout",
     "output_type": "stream",
     "text": [
      "Enter the Tuple value:27\n",
      "Value not present in the Tuple\n"
     ]
    }
   ],
   "source": [
    "n=int(input(\"Enter the Tuple value:\"))\n",
    "for i in tp_n:\n",
    "    if i==n:\n",
    "        print(\"Entered value present in the Tuple\")\n",
    "        break\n",
    "    elif i!=n:\n",
    "        print(\"Value not present in the Tuple\")\n",
    "        break\n",
    "    "
   ]
  },
  {
   "cell_type": "code",
   "execution_count": 7,
   "id": "c9f20277",
   "metadata": {},
   "outputs": [
    {
     "data": {
      "text/plain": [
       "(7, 8, 9, 11, 12)"
      ]
     },
     "execution_count": 7,
     "metadata": {},
     "output_type": "execute_result"
    }
   ],
   "source": [
    "tp_n"
   ]
  },
  {
   "cell_type": "code",
   "execution_count": 22,
   "id": "f24e26de",
   "metadata": {},
   "outputs": [],
   "source": [
    "tp_li=list(tp_n)"
   ]
  },
  {
   "cell_type": "code",
   "execution_count": 23,
   "id": "07dd85bf",
   "metadata": {},
   "outputs": [
    {
     "data": {
      "text/plain": [
       "[7, 8, 9, 11, 12]"
      ]
     },
     "execution_count": 23,
     "metadata": {},
     "output_type": "execute_result"
    }
   ],
   "source": [
    "tp_li"
   ]
  },
  {
   "cell_type": "code",
   "execution_count": 24,
   "id": "62c41adb",
   "metadata": {},
   "outputs": [
    {
     "data": {
      "text/plain": [
       "list"
      ]
     },
     "execution_count": 24,
     "metadata": {},
     "output_type": "execute_result"
    }
   ],
   "source": [
    "type(tp_li)"
   ]
  },
  {
   "cell_type": "code",
   "execution_count": 25,
   "id": "8f450c8a",
   "metadata": {},
   "outputs": [
    {
     "data": {
      "text/plain": [
       "tuple"
      ]
     },
     "execution_count": 25,
     "metadata": {},
     "output_type": "execute_result"
    }
   ],
   "source": [
    "type(tp_n)"
   ]
  },
  {
   "cell_type": "code",
   "execution_count": 26,
   "id": "f65f9734",
   "metadata": {},
   "outputs": [],
   "source": [
    "tp_li.append(17)"
   ]
  },
  {
   "cell_type": "code",
   "execution_count": 27,
   "id": "752b1897",
   "metadata": {},
   "outputs": [
    {
     "data": {
      "text/plain": [
       "[7, 8, 9, 11, 12, 17]"
      ]
     },
     "execution_count": 27,
     "metadata": {},
     "output_type": "execute_result"
    }
   ],
   "source": [
    "tp_li"
   ]
  },
  {
   "cell_type": "code",
   "execution_count": 28,
   "id": "17fb830d",
   "metadata": {},
   "outputs": [
    {
     "data": {
      "text/plain": [
       "(7, 8, 9, 11, 12)"
      ]
     },
     "execution_count": 28,
     "metadata": {},
     "output_type": "execute_result"
    }
   ],
   "source": [
    "tp_n"
   ]
  },
  {
   "cell_type": "code",
   "execution_count": 29,
   "id": "35ab7abe",
   "metadata": {},
   "outputs": [],
   "source": [
    "tp_m=('rabi',)"
   ]
  },
  {
   "cell_type": "code",
   "execution_count": 30,
   "id": "72838fda",
   "metadata": {},
   "outputs": [
    {
     "data": {
      "text/plain": [
       "tuple"
      ]
     },
     "execution_count": 30,
     "metadata": {},
     "output_type": "execute_result"
    }
   ],
   "source": [
    "type(tp_m)"
   ]
  },
  {
   "cell_type": "code",
   "execution_count": 31,
   "id": "4eed615f",
   "metadata": {},
   "outputs": [],
   "source": [
    "tp_n+=tp_m"
   ]
  },
  {
   "cell_type": "code",
   "execution_count": 32,
   "id": "a521c964",
   "metadata": {},
   "outputs": [
    {
     "data": {
      "text/plain": [
       "(7, 8, 9, 11, 12, 'rabi')"
      ]
     },
     "execution_count": 32,
     "metadata": {},
     "output_type": "execute_result"
    }
   ],
   "source": [
    "tp_n"
   ]
  },
  {
   "cell_type": "code",
   "execution_count": 33,
   "id": "35e0c864",
   "metadata": {},
   "outputs": [],
   "source": [
    "tp_p=(8,8,10,11)"
   ]
  },
  {
   "cell_type": "code",
   "execution_count": 34,
   "id": "d4c9f82c",
   "metadata": {},
   "outputs": [],
   "source": [
    "tp_n+=tp_p"
   ]
  },
  {
   "cell_type": "code",
   "execution_count": 35,
   "id": "37f0be92",
   "metadata": {},
   "outputs": [
    {
     "data": {
      "text/plain": [
       "(7, 8, 9, 11, 12, 'rabi', 8, 8, 10, 11)"
      ]
     },
     "execution_count": 35,
     "metadata": {},
     "output_type": "execute_result"
    }
   ],
   "source": [
    "tp_n"
   ]
  },
  {
   "cell_type": "code",
   "execution_count": 36,
   "id": "cbb15ad4",
   "metadata": {},
   "outputs": [
    {
     "data": {
      "text/plain": [
       "3"
      ]
     },
     "execution_count": 36,
     "metadata": {},
     "output_type": "execute_result"
    }
   ],
   "source": [
    "tp_n.count(8)"
   ]
  },
  {
   "cell_type": "code",
   "execution_count": 37,
   "id": "f073489e",
   "metadata": {},
   "outputs": [
    {
     "data": {
      "text/plain": [
       "2"
      ]
     },
     "execution_count": 37,
     "metadata": {},
     "output_type": "execute_result"
    }
   ],
   "source": [
    "tp_n.count(11)"
   ]
  },
  {
   "cell_type": "code",
   "execution_count": 38,
   "id": "700154b6",
   "metadata": {},
   "outputs": [
    {
     "data": {
      "text/plain": [
       "1"
      ]
     },
     "execution_count": 38,
     "metadata": {},
     "output_type": "execute_result"
    }
   ],
   "source": [
    "tp_n.index(8)"
   ]
  },
  {
   "cell_type": "code",
   "execution_count": 39,
   "id": "7da5bf34",
   "metadata": {},
   "outputs": [
    {
     "data": {
      "text/plain": [
       "5"
      ]
     },
     "execution_count": 39,
     "metadata": {},
     "output_type": "execute_result"
    }
   ],
   "source": [
    "tp_n.index('rabi')"
   ]
  },
  {
   "cell_type": "markdown",
   "id": "65cdca73",
   "metadata": {},
   "source": [
    "# Python <u>Set</u>"
   ]
  },
  {
   "cell_type": "code",
   "execution_count": 1,
   "id": "6df3c181",
   "metadata": {},
   "outputs": [
    {
     "data": {
      "text/plain": [
       "{1, 2, 3, 4, 5}"
      ]
     },
     "execution_count": 1,
     "metadata": {},
     "output_type": "execute_result"
    }
   ],
   "source": [
    "tp={1,2,3,4,5}\n",
    "tp"
   ]
  },
  {
   "cell_type": "code",
   "execution_count": 3,
   "id": "32fe332d",
   "metadata": {},
   "outputs": [
    {
     "name": "stdout",
     "output_type": "stream",
     "text": [
      "1\n",
      "2\n",
      "3\n",
      "4\n",
      "5\n"
     ]
    }
   ],
   "source": [
    "for i in tp:\n",
    "    print(i)"
   ]
  },
  {
   "cell_type": "code",
   "execution_count": 4,
   "id": "51dada37",
   "metadata": {},
   "outputs": [
    {
     "data": {
      "text/plain": [
       "5"
      ]
     },
     "execution_count": 4,
     "metadata": {},
     "output_type": "execute_result"
    }
   ],
   "source": [
    "len(tp)"
   ]
  },
  {
   "cell_type": "code",
   "execution_count": 5,
   "id": "b0a5b4fa",
   "metadata": {},
   "outputs": [
    {
     "data": {
      "text/plain": [
       "set"
      ]
     },
     "execution_count": 5,
     "metadata": {},
     "output_type": "execute_result"
    }
   ],
   "source": [
    "type(tp)"
   ]
  },
  {
   "cell_type": "code",
   "execution_count": 9,
   "id": "18f44c05",
   "metadata": {},
   "outputs": [],
   "source": [
    "tp1={'Data',}"
   ]
  },
  {
   "cell_type": "code",
   "execution_count": 10,
   "id": "3c8bb145",
   "metadata": {},
   "outputs": [
    {
     "data": {
      "text/plain": [
       "{'Data'}"
      ]
     },
     "execution_count": 10,
     "metadata": {},
     "output_type": "execute_result"
    }
   ],
   "source": [
    "tp1"
   ]
  },
  {
   "cell_type": "code",
   "execution_count": 12,
   "id": "953b1180",
   "metadata": {},
   "outputs": [
    {
     "data": {
      "text/plain": [
       "set"
      ]
     },
     "execution_count": 12,
     "metadata": {},
     "output_type": "execute_result"
    }
   ],
   "source": [
    "type(tp1)"
   ]
  },
  {
   "cell_type": "code",
   "execution_count": 17,
   "id": "225271e0",
   "metadata": {},
   "outputs": [],
   "source": [
    "tp2=set({'data','Science',1,2,1})"
   ]
  },
  {
   "cell_type": "code",
   "execution_count": 18,
   "id": "8631a09e",
   "metadata": {},
   "outputs": [
    {
     "data": {
      "text/plain": [
       "{1, 2, 'Science', 'data'}"
      ]
     },
     "execution_count": 18,
     "metadata": {},
     "output_type": "execute_result"
    }
   ],
   "source": [
    "tp2"
   ]
  },
  {
   "cell_type": "code",
   "execution_count": 19,
   "id": "1ba213e7",
   "metadata": {},
   "outputs": [
    {
     "data": {
      "text/plain": [
       "set"
      ]
     },
     "execution_count": 19,
     "metadata": {},
     "output_type": "execute_result"
    }
   ],
   "source": [
    "type(tp2)"
   ]
  },
  {
   "cell_type": "code",
   "execution_count": 20,
   "id": "1daa7c0d",
   "metadata": {},
   "outputs": [],
   "source": [
    "tp2.add('AI')"
   ]
  },
  {
   "cell_type": "code",
   "execution_count": 21,
   "id": "5eb6518c",
   "metadata": {},
   "outputs": [
    {
     "data": {
      "text/plain": [
       "{1, 2, 'AI', 'Science', 'data'}"
      ]
     },
     "execution_count": 21,
     "metadata": {},
     "output_type": "execute_result"
    }
   ],
   "source": [
    "tp2"
   ]
  },
  {
   "cell_type": "code",
   "execution_count": 23,
   "id": "ba52be4e",
   "metadata": {},
   "outputs": [],
   "source": [
    "tp2.add('AI')"
   ]
  },
  {
   "cell_type": "code",
   "execution_count": 24,
   "id": "ca83959c",
   "metadata": {},
   "outputs": [
    {
     "data": {
      "text/plain": [
       "{1, 2, 'AI', 'Science', 'data'}"
      ]
     },
     "execution_count": 24,
     "metadata": {},
     "output_type": "execute_result"
    }
   ],
   "source": [
    "tp2"
   ]
  },
  {
   "cell_type": "code",
   "execution_count": 25,
   "id": "73d3203d",
   "metadata": {},
   "outputs": [],
   "source": [
    "tp2.update(tp)"
   ]
  },
  {
   "cell_type": "code",
   "execution_count": 26,
   "id": "62104ed7",
   "metadata": {},
   "outputs": [
    {
     "data": {
      "text/plain": [
       "{1, 2, 3, 4, 5, 'AI', 'Science', 'data'}"
      ]
     },
     "execution_count": 26,
     "metadata": {},
     "output_type": "execute_result"
    }
   ],
   "source": [
    "tp2"
   ]
  },
  {
   "cell_type": "code",
   "execution_count": 27,
   "id": "9c215782",
   "metadata": {},
   "outputs": [],
   "source": [
    "lis=['ICT','CS',99,109]"
   ]
  },
  {
   "cell_type": "code",
   "execution_count": 28,
   "id": "93225121",
   "metadata": {},
   "outputs": [],
   "source": [
    "tp2.update(lis)"
   ]
  },
  {
   "cell_type": "code",
   "execution_count": 29,
   "id": "0fb2d6f6",
   "metadata": {},
   "outputs": [
    {
     "data": {
      "text/plain": [
       "{1, 109, 2, 3, 4, 5, 99, 'AI', 'CS', 'ICT', 'Science', 'data'}"
      ]
     },
     "execution_count": 29,
     "metadata": {},
     "output_type": "execute_result"
    }
   ],
   "source": [
    "tp2"
   ]
  },
  {
   "cell_type": "code",
   "execution_count": 30,
   "id": "54c1374a",
   "metadata": {},
   "outputs": [],
   "source": [
    "tp2.remove('AI')"
   ]
  },
  {
   "cell_type": "code",
   "execution_count": 31,
   "id": "94dcf7ad",
   "metadata": {},
   "outputs": [
    {
     "data": {
      "text/plain": [
       "{1, 109, 2, 3, 4, 5, 99, 'CS', 'ICT', 'Science', 'data'}"
      ]
     },
     "execution_count": 31,
     "metadata": {},
     "output_type": "execute_result"
    }
   ],
   "source": [
    "tp2"
   ]
  },
  {
   "cell_type": "code",
   "execution_count": 32,
   "id": "b538a5d5",
   "metadata": {},
   "outputs": [],
   "source": [
    "tp2.add('AI')"
   ]
  },
  {
   "cell_type": "code",
   "execution_count": 33,
   "id": "c5b73009",
   "metadata": {},
   "outputs": [
    {
     "data": {
      "text/plain": [
       "{1, 109, 2, 3, 4, 5, 99, 'AI', 'CS', 'ICT', 'Science', 'data'}"
      ]
     },
     "execution_count": 33,
     "metadata": {},
     "output_type": "execute_result"
    }
   ],
   "source": [
    "tp2"
   ]
  },
  {
   "cell_type": "code",
   "execution_count": 34,
   "id": "553a3815",
   "metadata": {},
   "outputs": [],
   "source": [
    "tp2.discard('ICT')"
   ]
  },
  {
   "cell_type": "code",
   "execution_count": 35,
   "id": "1ef41cb0",
   "metadata": {},
   "outputs": [
    {
     "data": {
      "text/plain": [
       "{1, 109, 2, 3, 4, 5, 99, 'AI', 'CS', 'Science', 'data'}"
      ]
     },
     "execution_count": 35,
     "metadata": {},
     "output_type": "execute_result"
    }
   ],
   "source": [
    "tp2"
   ]
  },
  {
   "cell_type": "code",
   "execution_count": 37,
   "id": "943c107f",
   "metadata": {},
   "outputs": [],
   "source": [
    "tp2.discard('ban')"
   ]
  },
  {
   "cell_type": "code",
   "execution_count": 38,
   "id": "5cfe5ccb",
   "metadata": {},
   "outputs": [
    {
     "data": {
      "text/plain": [
       "{1, 109, 2, 3, 4, 5, 99, 'AI', 'CS', 'Science', 'data'}"
      ]
     },
     "execution_count": 38,
     "metadata": {},
     "output_type": "execute_result"
    }
   ],
   "source": [
    "tp2"
   ]
  },
  {
   "cell_type": "code",
   "execution_count": 39,
   "id": "df2c246f",
   "metadata": {},
   "outputs": [
    {
     "data": {
      "text/plain": [
       "1"
      ]
     },
     "execution_count": 39,
     "metadata": {},
     "output_type": "execute_result"
    }
   ],
   "source": [
    "tp2.pop()"
   ]
  },
  {
   "cell_type": "code",
   "execution_count": 40,
   "id": "d575cd29",
   "metadata": {},
   "outputs": [
    {
     "data": {
      "text/plain": [
       "{109, 2, 3, 4, 5, 99, 'AI', 'CS', 'Science', 'data'}"
      ]
     },
     "execution_count": 40,
     "metadata": {},
     "output_type": "execute_result"
    }
   ],
   "source": [
    "tp2"
   ]
  },
  {
   "cell_type": "code",
   "execution_count": 41,
   "id": "9cbc7964",
   "metadata": {},
   "outputs": [
    {
     "name": "stdout",
     "output_type": "stream",
     "text": [
      "\f",
      "\n"
     ]
    }
   ],
   "source": [
    "clear(tp1)"
   ]
  },
  {
   "cell_type": "code",
   "execution_count": 42,
   "id": "641b40b2",
   "metadata": {},
   "outputs": [
    {
     "data": {
      "text/plain": [
       "{'Data'}"
      ]
     },
     "execution_count": 42,
     "metadata": {},
     "output_type": "execute_result"
    }
   ],
   "source": [
    "tp1"
   ]
  },
  {
   "cell_type": "code",
   "execution_count": 43,
   "id": "ec6dd60b",
   "metadata": {},
   "outputs": [],
   "source": [
    "tp1.clear()"
   ]
  },
  {
   "cell_type": "code",
   "execution_count": 44,
   "id": "d566c0a4",
   "metadata": {},
   "outputs": [
    {
     "data": {
      "text/plain": [
       "set()"
      ]
     },
     "execution_count": 44,
     "metadata": {},
     "output_type": "execute_result"
    }
   ],
   "source": [
    "tp1"
   ]
  },
  {
   "cell_type": "code",
   "execution_count": 45,
   "id": "5722f0ef",
   "metadata": {},
   "outputs": [],
   "source": [
    "del tp"
   ]
  },
  {
   "cell_type": "code",
   "execution_count": 47,
   "id": "7d5bf27f",
   "metadata": {},
   "outputs": [
    {
     "data": {
      "text/plain": [
       "{109, 2, 3, 4, 5, 99, 'AI', 'CS', 'Science', 'data'}"
      ]
     },
     "execution_count": 47,
     "metadata": {},
     "output_type": "execute_result"
    }
   ],
   "source": [
    "tp2"
   ]
  },
  {
   "cell_type": "code",
   "execution_count": 64,
   "id": "e13d822c",
   "metadata": {},
   "outputs": [],
   "source": [
    "se={'AI','CS',500,'saif'}"
   ]
  },
  {
   "cell_type": "code",
   "execution_count": 58,
   "id": "7d418da3",
   "metadata": {},
   "outputs": [],
   "source": [
    "se2=tp2.union(se)"
   ]
  },
  {
   "cell_type": "code",
   "execution_count": 59,
   "id": "341523ee",
   "metadata": {},
   "outputs": [
    {
     "data": {
      "text/plain": [
       "{109, 2, 3, 4, 5, 500, 99, 'AI', 'CS', 'Science', 'data', 'saif'}"
      ]
     },
     "execution_count": 59,
     "metadata": {},
     "output_type": "execute_result"
    }
   ],
   "source": [
    "se2"
   ]
  },
  {
   "cell_type": "code",
   "execution_count": 65,
   "id": "b39e6885",
   "metadata": {},
   "outputs": [],
   "source": [
    "tp2.intersection_update(se2)"
   ]
  },
  {
   "cell_type": "code",
   "execution_count": 61,
   "id": "18d85cfa",
   "metadata": {},
   "outputs": [
    {
     "data": {
      "text/plain": [
       "{109, 2, 3, 4, 5, 99, 'AI', 'CS', 'Science', 'data'}"
      ]
     },
     "execution_count": 61,
     "metadata": {},
     "output_type": "execute_result"
    }
   ],
   "source": [
    "tp2"
   ]
  },
  {
   "cell_type": "code",
   "execution_count": 66,
   "id": "e495825c",
   "metadata": {},
   "outputs": [],
   "source": [
    "se3={500,'AI'}"
   ]
  },
  {
   "cell_type": "code",
   "execution_count": 67,
   "id": "c0c4fd6f",
   "metadata": {},
   "outputs": [],
   "source": [
    "tp2.intersection_update(se3)"
   ]
  },
  {
   "cell_type": "code",
   "execution_count": 68,
   "id": "a94ac5e3",
   "metadata": {},
   "outputs": [
    {
     "data": {
      "text/plain": [
       "{'AI'}"
      ]
     },
     "execution_count": 68,
     "metadata": {},
     "output_type": "execute_result"
    }
   ],
   "source": [
    "tp2"
   ]
  },
  {
   "cell_type": "markdown",
   "id": "3b5bcd0d",
   "metadata": {},
   "source": [
    "# Python - <u>Dictonary</u>"
   ]
  },
  {
   "cell_type": "code",
   "execution_count": 2,
   "id": "9c0256fe",
   "metadata": {},
   "outputs": [],
   "source": [
    "dic={\n",
    "    'District':'Chattogram',\n",
    "    'occupation':'Service',\n",
    "    'Designation':'Executive'\n",
    "    \n",
    "}"
   ]
  },
  {
   "cell_type": "code",
   "execution_count": 3,
   "id": "eea340c9",
   "metadata": {},
   "outputs": [
    {
     "data": {
      "text/plain": [
       "{'District': 'Chattogram', 'occupation': 'Service', 'Designation': 'Executive'}"
      ]
     },
     "execution_count": 3,
     "metadata": {},
     "output_type": "execute_result"
    }
   ],
   "source": [
    "dic"
   ]
  },
  {
   "cell_type": "code",
   "execution_count": 4,
   "id": "649717e5",
   "metadata": {},
   "outputs": [
    {
     "data": {
      "text/plain": [
       "dict_keys(['District', 'occupation', 'Designation'])"
      ]
     },
     "execution_count": 4,
     "metadata": {},
     "output_type": "execute_result"
    }
   ],
   "source": [
    "dic.keys()"
   ]
  },
  {
   "cell_type": "code",
   "execution_count": 5,
   "id": "45906537",
   "metadata": {},
   "outputs": [
    {
     "data": {
      "text/plain": [
       "dict_values(['Chattogram', 'Service', 'Executive'])"
      ]
     },
     "execution_count": 5,
     "metadata": {},
     "output_type": "execute_result"
    }
   ],
   "source": [
    "dic.values()"
   ]
  },
  {
   "cell_type": "code",
   "execution_count": 8,
   "id": "f0346ea9",
   "metadata": {},
   "outputs": [],
   "source": [
    "dic['Country']='Bangladesh'"
   ]
  },
  {
   "cell_type": "code",
   "execution_count": 9,
   "id": "eb42c9ec",
   "metadata": {},
   "outputs": [
    {
     "data": {
      "text/plain": [
       "{'District': 'Chattogram',\n",
       " 'occupation': 'Service',\n",
       " 'Designation': 'Executive',\n",
       " 'Country': 'Bangladesh'}"
      ]
     },
     "execution_count": 9,
     "metadata": {},
     "output_type": "execute_result"
    }
   ],
   "source": [
    "dic"
   ]
  },
  {
   "cell_type": "code",
   "execution_count": 10,
   "id": "0b281c44",
   "metadata": {},
   "outputs": [
    {
     "data": {
      "text/plain": [
       "dict"
      ]
     },
     "execution_count": 10,
     "metadata": {},
     "output_type": "execute_result"
    }
   ],
   "source": [
    "type(dic)"
   ]
  },
  {
   "cell_type": "code",
   "execution_count": 11,
   "id": "1f03b063",
   "metadata": {},
   "outputs": [
    {
     "data": {
      "text/plain": [
       "4"
      ]
     },
     "execution_count": 11,
     "metadata": {},
     "output_type": "execute_result"
    }
   ],
   "source": [
    "len(dic)"
   ]
  },
  {
   "cell_type": "code",
   "execution_count": 12,
   "id": "5aacd6ee",
   "metadata": {},
   "outputs": [
    {
     "name": "stdout",
     "output_type": "stream",
     "text": [
      "{'District': 'Chattogram', 'occupation': 'Service', 'Designation': 'Executive', 'Country': 'Bangladesh'}\n"
     ]
    }
   ],
   "source": [
    "print(dic)"
   ]
  },
  {
   "cell_type": "code",
   "execution_count": 13,
   "id": "3018534b",
   "metadata": {},
   "outputs": [
    {
     "data": {
      "text/plain": [
       "{'District': 'Chattogram',\n",
       " 'occupation': 'Service',\n",
       " 'Designation': 'Executive',\n",
       " 'Country': 'Bangladesh'}"
      ]
     },
     "execution_count": 13,
     "metadata": {},
     "output_type": "execute_result"
    }
   ],
   "source": [
    "dic"
   ]
  },
  {
   "cell_type": "code",
   "execution_count": 14,
   "id": "8f74ec5c",
   "metadata": {},
   "outputs": [
    {
     "data": {
      "text/plain": [
       "dict"
      ]
     },
     "execution_count": 14,
     "metadata": {},
     "output_type": "execute_result"
    }
   ],
   "source": [
    "type(dic)"
   ]
  },
  {
   "cell_type": "code",
   "execution_count": 15,
   "id": "230dc2f6",
   "metadata": {},
   "outputs": [],
   "source": [
    "x=dic['Country']"
   ]
  },
  {
   "cell_type": "code",
   "execution_count": 16,
   "id": "e550cbbb",
   "metadata": {},
   "outputs": [
    {
     "data": {
      "text/plain": [
       "'Bangladesh'"
      ]
     },
     "execution_count": 16,
     "metadata": {},
     "output_type": "execute_result"
    }
   ],
   "source": [
    "x"
   ]
  },
  {
   "cell_type": "code",
   "execution_count": 17,
   "id": "972f34dc",
   "metadata": {},
   "outputs": [
    {
     "data": {
      "text/plain": [
       "'Bangladesh'"
      ]
     },
     "execution_count": 17,
     "metadata": {},
     "output_type": "execute_result"
    }
   ],
   "source": [
    "dic.get('Country')"
   ]
  },
  {
   "cell_type": "code",
   "execution_count": 18,
   "id": "b8bfc614",
   "metadata": {},
   "outputs": [
    {
     "data": {
      "text/plain": [
       "dict_items([('District', 'Chattogram'), ('occupation', 'Service'), ('Designation', 'Executive'), ('Country', 'Bangladesh')])"
      ]
     },
     "execution_count": 18,
     "metadata": {},
     "output_type": "execute_result"
    }
   ],
   "source": [
    "dic.items()"
   ]
  },
  {
   "cell_type": "code",
   "execution_count": 21,
   "id": "66b3487d",
   "metadata": {},
   "outputs": [
    {
     "name": "stdout",
     "output_type": "stream",
     "text": [
      "District\n",
      "occupation\n",
      "Designation\n",
      "Country\n"
     ]
    }
   ],
   "source": [
    "for i in dic:\n",
    "    print(i)"
   ]
  },
  {
   "cell_type": "code",
   "execution_count": 23,
   "id": "f5c59c2e",
   "metadata": {},
   "outputs": [
    {
     "name": "stdout",
     "output_type": "stream",
     "text": [
      "Chattogram\n",
      "Service\n",
      "Executive\n",
      "Bangladesh\n"
     ]
    }
   ],
   "source": [
    "for i in dic:\n",
    "    print(dic[i])"
   ]
  },
  {
   "cell_type": "code",
   "execution_count": 24,
   "id": "f2a9531f",
   "metadata": {},
   "outputs": [
    {
     "name": "stdout",
     "output_type": "stream",
     "text": [
      "District Chattogram\n",
      "occupation Service\n",
      "Designation Executive\n",
      "Country Bangladesh\n"
     ]
    }
   ],
   "source": [
    "for x,y in dic.items():\n",
    "    print(x,y)"
   ]
  },
  {
   "cell_type": "markdown",
   "id": "6ddfe0ae",
   "metadata": {},
   "source": [
    "# Python - <u>Pandas</u>"
   ]
  },
  {
   "cell_type": "code",
   "execution_count": 17,
   "id": "bb034fb9",
   "metadata": {},
   "outputs": [],
   "source": [
    "import pandas as pd"
   ]
  },
  {
   "cell_type": "code",
   "execution_count": 3,
   "id": "bbbd5820",
   "metadata": {},
   "outputs": [],
   "source": [
    "df=pd.read_csv(\"abc.csv\")"
   ]
  },
  {
   "cell_type": "code",
   "execution_count": 4,
   "id": "59ce728e",
   "metadata": {},
   "outputs": [
    {
     "data": {
      "text/html": [
       "<div>\n",
       "<style scoped>\n",
       "    .dataframe tbody tr th:only-of-type {\n",
       "        vertical-align: middle;\n",
       "    }\n",
       "\n",
       "    .dataframe tbody tr th {\n",
       "        vertical-align: top;\n",
       "    }\n",
       "\n",
       "    .dataframe thead th {\n",
       "        text-align: right;\n",
       "    }\n",
       "</style>\n",
       "<table border=\"1\" class=\"dataframe\">\n",
       "  <thead>\n",
       "    <tr style=\"text-align: right;\">\n",
       "      <th></th>\n",
       "      <th>SL</th>\n",
       "      <th>Software Name</th>\n",
       "      <th>Department Using</th>\n",
       "      <th>In functioning Area</th>\n",
       "      <th>Details</th>\n",
       "    </tr>\n",
       "  </thead>\n",
       "  <tbody>\n",
       "    <tr>\n",
       "      <th>0</th>\n",
       "      <td>1</td>\n",
       "      <td>Efficiency Management System</td>\n",
       "      <td>IE, Planning &amp; Finance</td>\n",
       "      <td>Efficiency calculation on daily produce quantity</td>\n",
       "      <td>Link</td>\n",
       "    </tr>\n",
       "    <tr>\n",
       "      <th>1</th>\n",
       "      <td>2</td>\n",
       "      <td>Gate Pass Management System</td>\n",
       "      <td>All</td>\n",
       "      <td>NaN</td>\n",
       "      <td>Link</td>\n",
       "    </tr>\n",
       "    <tr>\n",
       "      <th>2</th>\n",
       "      <td>3</td>\n",
       "      <td>Smart Warehouse System</td>\n",
       "      <td>Store, FI</td>\n",
       "      <td>NaN</td>\n",
       "      <td>Link</td>\n",
       "    </tr>\n",
       "    <tr>\n",
       "      <th>3</th>\n",
       "      <td>4</td>\n",
       "      <td>AQL Inspection</td>\n",
       "      <td>Store</td>\n",
       "      <td>NaN</td>\n",
       "      <td>Link</td>\n",
       "    </tr>\n",
       "    <tr>\n",
       "      <th>4</th>\n",
       "      <td>5</td>\n",
       "      <td>PO Monitoring System</td>\n",
       "      <td>KTL &amp; FR</td>\n",
       "      <td>NaN</td>\n",
       "      <td>Link</td>\n",
       "    </tr>\n",
       "    <tr>\n",
       "      <th>5</th>\n",
       "      <td>6</td>\n",
       "      <td>Stock Lot - Scan Pack</td>\n",
       "      <td>Stock Lot</td>\n",
       "      <td>NaN</td>\n",
       "      <td>Link</td>\n",
       "    </tr>\n",
       "    <tr>\n",
       "      <th>6</th>\n",
       "      <td>7</td>\n",
       "      <td>Weekly Production Planning Management</td>\n",
       "      <td>Planning, Store, Cutting, Sample, IE, FI</td>\n",
       "      <td>Identifies the important activities of upcomin...</td>\n",
       "      <td>Link</td>\n",
       "    </tr>\n",
       "    <tr>\n",
       "      <th>7</th>\n",
       "      <td>8</td>\n",
       "      <td>Needle Solution</td>\n",
       "      <td>Maintenance</td>\n",
       "      <td>Machine inventory &amp; Needle issue</td>\n",
       "      <td>Link</td>\n",
       "    </tr>\n",
       "    <tr>\n",
       "      <th>8</th>\n",
       "      <td>9</td>\n",
       "      <td>IPPS Invoice Management</td>\n",
       "      <td>IPPS</td>\n",
       "      <td>NaN</td>\n",
       "      <td>Link</td>\n",
       "    </tr>\n",
       "    <tr>\n",
       "      <th>9</th>\n",
       "      <td>10</td>\n",
       "      <td>IT Inventory System</td>\n",
       "      <td>IT</td>\n",
       "      <td>Inventory on IT Accessories</td>\n",
       "      <td>Link</td>\n",
       "    </tr>\n",
       "    <tr>\n",
       "      <th>10</th>\n",
       "      <td>11</td>\n",
       "      <td>Sample Archive Management</td>\n",
       "      <td>Sample</td>\n",
       "      <td>NaN</td>\n",
       "      <td>Link</td>\n",
       "    </tr>\n",
       "  </tbody>\n",
       "</table>\n",
       "</div>"
      ],
      "text/plain": [
       "    SL                          Software Name  \\\n",
       "0    1           Efficiency Management System   \n",
       "1    2            Gate Pass Management System   \n",
       "2    3                 Smart Warehouse System   \n",
       "3    4                        AQL Inspection    \n",
       "4    5                   PO Monitoring System   \n",
       "5    6                  Stock Lot - Scan Pack   \n",
       "6    7  Weekly Production Planning Management   \n",
       "7    8                        Needle Solution   \n",
       "8    9                IPPS Invoice Management   \n",
       "9   10                    IT Inventory System   \n",
       "10  11              Sample Archive Management   \n",
       "\n",
       "                            Department Using  \\\n",
       "0                     IE, Planning & Finance   \n",
       "1                                        All   \n",
       "2                                  Store, FI   \n",
       "3                                      Store   \n",
       "4                                   KTL & FR   \n",
       "5                                  Stock Lot   \n",
       "6   Planning, Store, Cutting, Sample, IE, FI   \n",
       "7                                Maintenance   \n",
       "8                                       IPPS   \n",
       "9                                         IT   \n",
       "10                                    Sample   \n",
       "\n",
       "                                  In functioning Area Details  \n",
       "0    Efficiency calculation on daily produce quantity    Link  \n",
       "1                                                 NaN    Link  \n",
       "2                                                 NaN    Link  \n",
       "3                                                 NaN    Link  \n",
       "4                                                 NaN    Link  \n",
       "5                                                 NaN    Link  \n",
       "6   Identifies the important activities of upcomin...    Link  \n",
       "7                    Machine inventory & Needle issue    Link  \n",
       "8                                                 NaN    Link  \n",
       "9                         Inventory on IT Accessories    Link  \n",
       "10                                                NaN    Link  "
      ]
     },
     "execution_count": 4,
     "metadata": {},
     "output_type": "execute_result"
    }
   ],
   "source": [
    "df"
   ]
  },
  {
   "cell_type": "code",
   "execution_count": 5,
   "id": "dfa9a188",
   "metadata": {},
   "outputs": [
    {
     "data": {
      "text/plain": [
       "0              Efficiency Management System\n",
       "1               Gate Pass Management System\n",
       "2                    Smart Warehouse System\n",
       "3                           AQL Inspection \n",
       "4                      PO Monitoring System\n",
       "5                     Stock Lot - Scan Pack\n",
       "6     Weekly Production Planning Management\n",
       "7                           Needle Solution\n",
       "8                   IPPS Invoice Management\n",
       "9                       IT Inventory System\n",
       "10                Sample Archive Management\n",
       "Name: Software Name, dtype: object"
      ]
     },
     "execution_count": 5,
     "metadata": {},
     "output_type": "execute_result"
    }
   ],
   "source": [
    "df[\"Software Name\"]"
   ]
  },
  {
   "cell_type": "code",
   "execution_count": 6,
   "id": "5373404d",
   "metadata": {},
   "outputs": [
    {
     "data": {
      "text/plain": [
       "0                       IE, Planning & Finance\n",
       "1                                          All\n",
       "2                                    Store, FI\n",
       "3                                        Store\n",
       "4                                     KTL & FR\n",
       "5                                    Stock Lot\n",
       "6     Planning, Store, Cutting, Sample, IE, FI\n",
       "7                                  Maintenance\n",
       "8                                         IPPS\n",
       "9                                           IT\n",
       "10                                      Sample\n",
       "Name: Department Using, dtype: object"
      ]
     },
     "execution_count": 6,
     "metadata": {},
     "output_type": "execute_result"
    }
   ],
   "source": [
    "df[\"Department Using\"]"
   ]
  },
  {
   "cell_type": "code",
   "execution_count": 7,
   "id": "2946f073",
   "metadata": {},
   "outputs": [
    {
     "data": {
      "text/plain": [
       "(11, 5)"
      ]
     },
     "execution_count": 7,
     "metadata": {},
     "output_type": "execute_result"
    }
   ],
   "source": [
    "df.shape"
   ]
  },
  {
   "cell_type": "code",
   "execution_count": 9,
   "id": "13286076",
   "metadata": {},
   "outputs": [
    {
     "data": {
      "text/plain": [
       "0      1\n",
       "1      2\n",
       "2      3\n",
       "3      4\n",
       "4      5\n",
       "5      6\n",
       "6      7\n",
       "7      8\n",
       "8      9\n",
       "9     10\n",
       "10    11\n",
       "Name: SL, dtype: int64"
      ]
     },
     "execution_count": 9,
     "metadata": {},
     "output_type": "execute_result"
    }
   ],
   "source": [
    "df[\"SL\"]"
   ]
  },
  {
   "cell_type": "code",
   "execution_count": 13,
   "id": "2c5aae22",
   "metadata": {},
   "outputs": [
    {
     "data": {
      "text/plain": [
       "6.0"
      ]
     },
     "execution_count": 13,
     "metadata": {},
     "output_type": "execute_result"
    }
   ],
   "source": [
    "df[\"SL\"].mean()"
   ]
  },
  {
   "cell_type": "code",
   "execution_count": 14,
   "id": "c15a1dc0",
   "metadata": {},
   "outputs": [],
   "source": [
    "rows,colums=df.shape"
   ]
  },
  {
   "cell_type": "code",
   "execution_count": 15,
   "id": "9bfa2d5e",
   "metadata": {},
   "outputs": [
    {
     "data": {
      "text/plain": [
       "11"
      ]
     },
     "execution_count": 15,
     "metadata": {},
     "output_type": "execute_result"
    }
   ],
   "source": [
    "rows"
   ]
  },
  {
   "cell_type": "code",
   "execution_count": 18,
   "id": "d8cf1401",
   "metadata": {},
   "outputs": [
    {
     "data": {
      "text/plain": [
       "5"
      ]
     },
     "execution_count": 18,
     "metadata": {},
     "output_type": "execute_result"
    }
   ],
   "source": [
    "colums"
   ]
  },
  {
   "cell_type": "code",
   "execution_count": 19,
   "id": "8eec9583",
   "metadata": {},
   "outputs": [
    {
     "data": {
      "text/html": [
       "<div>\n",
       "<style scoped>\n",
       "    .dataframe tbody tr th:only-of-type {\n",
       "        vertical-align: middle;\n",
       "    }\n",
       "\n",
       "    .dataframe tbody tr th {\n",
       "        vertical-align: top;\n",
       "    }\n",
       "\n",
       "    .dataframe thead th {\n",
       "        text-align: right;\n",
       "    }\n",
       "</style>\n",
       "<table border=\"1\" class=\"dataframe\">\n",
       "  <thead>\n",
       "    <tr style=\"text-align: right;\">\n",
       "      <th></th>\n",
       "      <th>SL</th>\n",
       "    </tr>\n",
       "  </thead>\n",
       "  <tbody>\n",
       "    <tr>\n",
       "      <th>count</th>\n",
       "      <td>11.000000</td>\n",
       "    </tr>\n",
       "    <tr>\n",
       "      <th>mean</th>\n",
       "      <td>6.000000</td>\n",
       "    </tr>\n",
       "    <tr>\n",
       "      <th>std</th>\n",
       "      <td>3.316625</td>\n",
       "    </tr>\n",
       "    <tr>\n",
       "      <th>min</th>\n",
       "      <td>1.000000</td>\n",
       "    </tr>\n",
       "    <tr>\n",
       "      <th>25%</th>\n",
       "      <td>3.500000</td>\n",
       "    </tr>\n",
       "    <tr>\n",
       "      <th>50%</th>\n",
       "      <td>6.000000</td>\n",
       "    </tr>\n",
       "    <tr>\n",
       "      <th>75%</th>\n",
       "      <td>8.500000</td>\n",
       "    </tr>\n",
       "    <tr>\n",
       "      <th>max</th>\n",
       "      <td>11.000000</td>\n",
       "    </tr>\n",
       "  </tbody>\n",
       "</table>\n",
       "</div>"
      ],
      "text/plain": [
       "              SL\n",
       "count  11.000000\n",
       "mean    6.000000\n",
       "std     3.316625\n",
       "min     1.000000\n",
       "25%     3.500000\n",
       "50%     6.000000\n",
       "75%     8.500000\n",
       "max    11.000000"
      ]
     },
     "execution_count": 19,
     "metadata": {},
     "output_type": "execute_result"
    }
   ],
   "source": [
    "df.describe()"
   ]
  },
  {
   "cell_type": "code",
   "execution_count": 21,
   "id": "40577a75",
   "metadata": {},
   "outputs": [
    {
     "data": {
      "text/plain": [
       "1"
      ]
     },
     "execution_count": 21,
     "metadata": {},
     "output_type": "execute_result"
    }
   ],
   "source": [
    "df[\"SL\"].min()"
   ]
  },
  {
   "cell_type": "code",
   "execution_count": 22,
   "id": "7cd167a4",
   "metadata": {},
   "outputs": [
    {
     "data": {
      "text/plain": [
       "11"
      ]
     },
     "execution_count": 22,
     "metadata": {},
     "output_type": "execute_result"
    }
   ],
   "source": [
    "df[\"SL\"].max()"
   ]
  }
 ],
 "metadata": {
  "kernelspec": {
   "display_name": "Python 3 (ipykernel)",
   "language": "python",
   "name": "python3"
  },
  "language_info": {
   "codemirror_mode": {
    "name": "ipython",
    "version": 3
   },
   "file_extension": ".py",
   "mimetype": "text/x-python",
   "name": "python",
   "nbconvert_exporter": "python",
   "pygments_lexer": "ipython3",
   "version": "3.9.12"
  }
 },
 "nbformat": 4,
 "nbformat_minor": 5
}
